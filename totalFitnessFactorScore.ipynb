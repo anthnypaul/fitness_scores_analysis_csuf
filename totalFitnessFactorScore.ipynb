{
 "cells": [
  {
   "cell_type": "markdown",
   "metadata": {},
   "source": [
    "# Modeling and Analysis of Total Fitness Factor Score for CSUF College Students\n",
    "\n",
    "## Group Members\n",
    "- Paul Anthony Bagabaldo\n",
    "- Joksan Hernandez\n",
    "- Huyen Nguyen\n",
    "\n",
    "## Acknowledgements\n",
    "Dr. Bill Beam (Department of Kinesiology), Dr. Archana McEligot (Department of Public Health), and Dr. Sinjini Mitra (Department of Information Systems and Decision Sciences) at California State University, Fullerton, for providing the data used in this project."
   ]
  },
  {
   "cell_type": "markdown",
   "metadata": {},
   "source": [
    "## Table of Contents\n",
    "1. [Introduction](#Introduction)\n",
    "2. [Data Description](#Data-Description)\n",
    "3. [Data Preprocessing](#Data-Preprocessing)\n",
    "4. [Exploratory Data Analysis](#Exploratory-Data-Analysis)\n",
    "5. [Modeling and Analysis](#Modeling-and-Analysis)\n",
    "6. [Results](#Results)\n",
    "7. [Conclusion](#Conclusion)\n",
    "8. [References](#References)"
   ]
  },
  {
   "cell_type": "markdown",
   "metadata": {},
   "source": [
    "## Introduction\n",
    "<a id=\"Introduction\"></a>\n",
    "\n",
    "Physical Fitness plays a large role in the overall health and well being of college students. These factors influencing fitness can help in designing targeted interventions to promote healthier lifestyles. Researchers at California State University, Fullerton (CSUF), in collaboration with various departments, have collected data on health and fitness-related variables for a long-term study. \n",
    "\n",
    "The goal of this project is to approximate the **Total Fitness Factor Score (FFTotal)** using other variables in the dataset. In this project, we will be using **explatory data analysis**, **linear regression modeling**, and **performance evaluation** to better understand the data. "
   ]
  },
  {
   "cell_type": "markdown",
   "metadata": {},
   "source": [
    "## Data Description\n",
    "\n",
    "The dataset consists of various health and fitness-related variables collected as part of fitness testing among students at California State University, Fullerton. Below is a summary of the key variables used in the analysis:\n",
    "\n",
    "### Demographic Information\n",
    "- **Idnum**: A random identification number assigned at the conclusion of the semester.\n",
    "- **Date**: The date or semester during which the test was conducted.\n",
    "- **Phone**: Last four digits of the self-reported phone number for matching data.\n",
    "- **Sex**: Gender of the subject (Female = F, Male = M).\n",
    "- **Age**: Self-reported age in years.\n",
    "- **Ethnicity**: Self-reported ethnicity (categories include Caucasian, Hispanic/Latino, African American, Native American, Asian, Pacific Islander, or Other).\n",
    "\n",
    "### Anthropometric Measurements\n",
    "- **Height (Ht)**: Height measured using a stadiometer to the closest 0.25 inches.\n",
    "- **Weight (Wt)**: Weight measured using an electronic scale to the closest 0.1 lb.\n",
    "- **BIA % Fat**: Body fat percentage measured using bioelectrical impedance analysis (BIA).\n",
    "- **Waist Girth**: Measured at the \"minimal\" natural waist in centimeters.\n",
    "- **Skinfold Measurements (SF 1, SF 2, SF 3)**: Skinfold thickness (in millimeters) at various sites:\n",
    "  - SF1: Chest (male) or triceps (female).\n",
    "  - SF2: Abdomen (male) or suprailium (female).\n",
    "  - SF3: Thigh (both genders).\n",
    "\n",
    "### Fitness and Physical Performance\n",
    "- **Forward Flexion (FF)**: Sit-and-reach test result, best of three trials, measured to the closest 0.5 inch.\n",
    "- **Right Grip Max (RGM)** and **Left Grip Max (LGM)**: Maximal grip strength for each hand (in kilograms).\n",
    "- **Vital Capacity (VC)**: Lung capacity measured using a Vitalometer (in liters).\n",
    "- **Stages**: Number of stages completed on a cycle ergometer test (range: 2–4 stages).\n",
    "- **Power and Heart Rate per Stage (PL 1-4, HR 1-4)**: Power (in watts) and heart rate (in bpm) for each stage of the cycle ergometer test.\n",
    "- **Rate of Perceived Exertion (RPE 1-4)**: Self-reported exertion at the end of each stage.\n",
    "\n",
    "### Cardiovascular and Environmental Data\n",
    "- **Resting HR**: Resting heart rate (in bpm), self-reported or measured.\n",
    "- **Systolic BP (SBP)** and **Diastolic BP (DBP)**: Brachial systolic and diastolic blood pressure (in mmHg), measured in a seated position.\n",
    "- **Ambient Temperature (TA)**: Temperature of the testing environment in degrees Celsius.\n",
    "- **Barometric Pressure (PB)**: Measured barometric pressure (in mmHg).\n",
    "\n",
    "### Risk Factors\n",
    "- **RF 2**: Gender-based risk factor (Female = 1, Male = 5).\n",
    "- **RF 3**: Stress score based on 11 questions (range: 11–55).\n",
    "- **RF 4**: Family history of cardiovascular disease (CVD) categorized into severity levels.\n",
    "- **RF 5**: Smoking history, self-reported (categories based on number of cigarettes/day).\n",
    "\n",
    "### Outcome Variable\n",
    "- **Total Fitness Factor Score (FFTotal)**: The primary outcome variable, representing an overall fitness metric calculated using a proprietary formula.\n"
   ]
  }
 ],
 "metadata": {
  "language_info": {
   "name": "python"
  }
 },
 "nbformat": 4,
 "nbformat_minor": 2
}
