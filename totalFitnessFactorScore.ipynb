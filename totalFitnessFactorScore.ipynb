{
 "cells": [
  {
   "cell_type": "markdown",
   "metadata": {},
   "source": [
    "# Modeling and Analysis of Total Fitness Factor Score for CSUF College Students\n",
    "\n",
    "## Group Members\n",
    "- Paul Anthony Bagabaldo\n",
    "- Joksan Hernandez\n",
    "- Huyen Nguyen\n",
    "\n",
    "## Acknowledgements\n",
    "Dr. Bill Beam (Department of Kinesiology), Dr. Archana McEligot (Department of Public Health), and Dr. Sinjini Mitra (Department of Information Systems and Decision Sciences) at California State University, Fullerton, for providing the data used in this project."
   ]
  },
  {
   "cell_type": "markdown",
   "metadata": {},
   "source": [
    "## Table of Contents \n",
    "<a id=\"TOC\"></a>\n",
    "1. [Introduction](#Introduction)\n",
    "2. [Data Description](#Data-Description)\n",
    "3. [Data Preprocessing](#Data-Preprocessing)\n",
    "4. [Exploratory Data Analysis](#Exploratory-Data-Analysis)\n",
    "5. [Modeling and Analysis](#Modeling-and-Analysis)\n",
    "6. [Results](#Results)\n",
    "7. [Conclusion](#Conclusion)\n",
    "8. [References](#References)"
   ]
  },
  {
   "cell_type": "markdown",
   "metadata": {},
   "source": [
    "## Introduction\n",
    "<a id=\"Introduction\"></a>\n",
    "\n",
    "Physical Fitness plays a large role in the overall health and well being of college students. These factors influencing fitness can help in designing targeted interventions to promote healthier lifestyles. Researchers at California State University, Fullerton (CSUF), in collaboration with various departments, have collected data on health and fitness-related variables for a long-term study. \n",
    "\n",
    "The goal of this project is to approximate the **Total Fitness Factor Score (FFTotal)** using other variables in the dataset. In this project, we will be using **explatory data analysis**, **linear regression modeling**, and **performance evaluation** to better understand the data. "
   ]
  },
  {
   "cell_type": "markdown",
   "metadata": {},
   "source": [
    "## Data Description\n",
    "\n",
    "The dataset consists of various health and fitness-related variables collected as part of fitness testing among students at California State University, Fullerton. Below is a summary of the key variables used in the analysis:\n",
    "\n",
    "### Demographic Information\n",
    "- **Idnum**: A random identification number assigned at the conclusion of the semester.\n",
    "- **Date**: The date or semester during which the test was conducted.\n",
    "- **Phone**: Last four digits of the self-reported phone number for matching data.\n",
    "- **Sex**: Gender of the subject (Female = F, Male = M).\n",
    "- **Age**: Self-reported age in years.\n",
    "- **Ethnicity**: Self-reported ethnicity (categories include Caucasian, Hispanic/Latino, African American, Native American, Asian, Pacific Islander, or Other).\n",
    "\n",
    "### Anthropometric Measurements\n",
    "- **Height (Ht)**: Height measured using a stadiometer to the closest 0.25 inches.\n",
    "- **Weight (Wt)**: Weight measured using an electronic scale to the closest 0.1 lb.\n",
    "- **BIA % Fat**: Body fat percentage measured using bioelectrical impedance analysis (BIA).\n",
    "- **Waist Girth**: Measured at the \"minimal\" natural waist in centimeters.\n",
    "- **Skinfold Measurements (SF 1, SF 2, SF 3)**: Skinfold thickness (in millimeters) at various sites:\n",
    "  - SF1: Chest (male) or triceps (female).\n",
    "  - SF2: Abdomen (male) or suprailium (female).\n",
    "  - SF3: Thigh (both genders).\n",
    "\n",
    "### Fitness and Physical Performance\n",
    "- **Forward Flexion (FF)**: Sit-and-reach test result, best of three trials, measured to the closest 0.5 inch.\n",
    "- **Right Grip Max (RGM)** and **Left Grip Max (LGM)**: Maximal grip strength for each hand (in kilograms).\n",
    "- **Vital Capacity (VC)**: Lung capacity measured using a Vitalometer (in liters).\n",
    "- **Stages**: Number of stages completed on a cycle ergometer test (range: 2–4 stages).\n",
    "- **Power and Heart Rate per Stage (PL 1-4, HR 1-4)**: Power (in watts) and heart rate (in bpm) for each stage of the cycle ergometer test.\n",
    "- **Rate of Perceived Exertion (RPE 1-4)**: Self-reported exertion at the end of each stage.\n",
    "\n",
    "### Cardiovascular and Environmental Data\n",
    "- **Resting HR**: Resting heart rate (in bpm), self-reported or measured.\n",
    "- **Systolic BP (SBP)** and **Diastolic BP (DBP)**: Brachial systolic and diastolic blood pressure (in mmHg), measured in a seated position.\n",
    "- **Ambient Temperature (TA)**: Temperature of the testing environment in degrees Celsius.\n",
    "- **Barometric Pressure (PB)**: Measured barometric pressure (in mmHg).\n",
    "\n",
    "### Risk Factors\n",
    "- **RF 2**: Gender-based risk factor (Female = 1, Male = 5).\n",
    "- **RF 3**: Stress score based on 11 questions (range: 11–55).\n",
    "- **RF 4**: Family history of cardiovascular disease (CVD) categorized into severity levels.\n",
    "- **RF 5**: Smoking history, self-reported (categories based on number of cigarettes/day).\n",
    "\n",
    "### Outcome Variable\n",
    "- **Total Fitness Factor Score (FFTotal)**: The primary outcome variable, representing an overall fitness metric calculated using a proprietary formula.\n"
   ]
  },
  {
   "cell_type": "markdown",
   "metadata": {},
   "source": [
    "[Back to Top](#TOC)"
   ]
  },
  {
   "cell_type": "markdown",
   "metadata": {},
   "source": [
    "## Data Preprocessing"
   ]
  },
  {
   "cell_type": "code",
   "execution_count": null,
   "metadata": {},
   "outputs": [
    {
     "ename": "",
     "evalue": "",
     "output_type": "error",
     "traceback": [
      "\u001b[1;31mRunning cells with 'Python 3.10.12' requires the ipykernel package.\n",
      "\u001b[1;31mRun the following command to install 'ipykernel' into the Python environment. \n",
      "\u001b[1;31mCommand: 'c:/msys64/mingw64/bin/python3.exe -m pip install ipykernel -U --user --force-reinstall'"
     ]
    }
   ],
   "source": [
    "import pandas as pd\n",
    "from lets_plot import *\n",
    "LetsPlot.setup_html()\n",
    "\n",
    "df = pd.read_csv('totalFitnessFactor.csv')\n",
    "\n",
    "df = df.dropna(axis=1, how='all')"
   ]
  },
  {
   "cell_type": "markdown",
   "metadata": {},
   "source": [
    "The initial dataset was loaded from 'totalFitnessFactor.csv'. Empty columns were identified and removed. This step removed columns containing only NA values, reducing noise and improving data quality for analysis."
   ]
  },
  {
   "cell_type": "code",
   "execution_count": null,
   "metadata": {},
   "outputs": [
    {
     "ename": "",
     "evalue": "",
     "output_type": "error",
     "traceback": [
      "\u001b[1;31mRunning cells with 'Python 3.10.12' requires the ipykernel package.\n",
      "\u001b[1;31mRun the following command to install 'ipykernel' into the Python environment. \n",
      "\u001b[1;31mCommand: 'c:/msys64/mingw64/bin/python3.exe -m pip install ipykernel -U --user --force-reinstall'"
     ]
    }
   ],
   "source": [
    "# Calculate the missing statistics\n",
    "missing_stats = (\n",
    "   df.isnull()\n",
    "       .sum()\n",
    "       .sort_values(ascending=False)\n",
    "       .to_frame('Missing Count')\n",
    "       .join(\n",
    "           (df.isnull().mean() * 100)\n",
    "           .round(2)\n",
    "           .to_frame('Missing %')\n",
    "       )\n",
    "       [lambda x: x['Missing Count'] > 0]\n",
    ")\n",
    "\n",
    "# Display the missing statistics\n",
    "(\n",
    "missing_stats\n",
    "    .style\n",
    "    .format({\n",
    "        'Missing Count': '{:,.0f}',\n",
    "        'Missing %': '{:.2f}%'\n",
    "    })\n",
    "    .background_gradient(cmap='Blues')\n",
    ")"
   ]
  },
  {
   "cell_type": "markdown",
   "metadata": {},
   "source": [
    "After reviewing the dataset using Python, we found that the columns Waist and BIA % Fat had significant amounts of missing data, with 88.08% and 74.57% of their values missing, respectively. Given the high percentage of missing values, we decided to exclude these columns from the analysis.\n",
    "\n",
    "In contrast, the columns SF 1, SF 2, and SF 3 had about 25.43% of their values missing. While this is not ideal, these columns still contain enough data to potentially provide valuable insights, so they were retained for further exploration.\n",
    "\n",
    "Lastly, there were several other columns, such as PL 3 (6.05%), HR 3 (6.05%), and RPE 3 (6.26%), that had only a small proportion of missing data. Given that these gaps were minimal, we concluded that keeping these columns would not significantly impact the results."
   ]
  },
  {
   "cell_type": "code",
   "execution_count": 84,
   "metadata": {},
   "outputs": [
    {
     "data": {
      "text/html": [
       "<style type=\"text/css\">\n",
       "#T_06327 thead {\n",
       "  background-color: #2c3e50;\n",
       "  color: white;\n",
       "  font-weight: bold;\n",
       "}\n",
       "</style>\n",
       "<table id=\"T_06327\">\n",
       "  <thead>\n",
       "    <tr>\n",
       "      <th class=\"blank level0\" >&nbsp;</th>\n",
       "      <th id=\"T_06327_level0_col0\" class=\"col_heading level0 col0\" >Data Type</th>\n",
       "      <th id=\"T_06327_level0_col1\" class=\"col_heading level0 col1\" >Non-null Count</th>\n",
       "    </tr>\n",
       "    <tr>\n",
       "      <th class=\"index_name level0\" >Column Name</th>\n",
       "      <th class=\"blank col0\" >&nbsp;</th>\n",
       "      <th class=\"blank col1\" >&nbsp;</th>\n",
       "    </tr>\n",
       "  </thead>\n",
       "  <tbody>\n",
       "    <tr>\n",
       "      <th id=\"T_06327_level0_row0\" class=\"row_heading level0 row0\" >Idnum</th>\n",
       "      <td id=\"T_06327_row0_col0\" class=\"data row0 col0\" >object</td>\n",
       "      <td id=\"T_06327_row0_col1\" class=\"data row0 col1\" >6,276</td>\n",
       "    </tr>\n",
       "    <tr>\n",
       "      <th id=\"T_06327_level0_row1\" class=\"row_heading level0 row1\" >Date</th>\n",
       "      <td id=\"T_06327_row1_col0\" class=\"data row1 col0\" >object</td>\n",
       "      <td id=\"T_06327_row1_col1\" class=\"data row1 col1\" >6,276</td>\n",
       "    </tr>\n",
       "    <tr>\n",
       "      <th id=\"T_06327_level0_row2\" class=\"row_heading level0 row2\" >Sex</th>\n",
       "      <td id=\"T_06327_row2_col0\" class=\"data row2 col0\" >object</td>\n",
       "      <td id=\"T_06327_row2_col1\" class=\"data row2 col1\" >6,276</td>\n",
       "    </tr>\n",
       "    <tr>\n",
       "      <th id=\"T_06327_level0_row3\" class=\"row_heading level0 row3\" >Age</th>\n",
       "      <td id=\"T_06327_row3_col0\" class=\"data row3 col0\" >int64</td>\n",
       "      <td id=\"T_06327_row3_col1\" class=\"data row3 col1\" >6,276</td>\n",
       "    </tr>\n",
       "    <tr>\n",
       "      <th id=\"T_06327_level0_row4\" class=\"row_heading level0 row4\" >Ht</th>\n",
       "      <td id=\"T_06327_row4_col0\" class=\"data row4 col0\" >float64</td>\n",
       "      <td id=\"T_06327_row4_col1\" class=\"data row4 col1\" >6,276</td>\n",
       "    </tr>\n",
       "    <tr>\n",
       "      <th id=\"T_06327_level0_row5\" class=\"row_heading level0 row5\" >Wt</th>\n",
       "      <td id=\"T_06327_row5_col0\" class=\"data row5 col0\" >float64</td>\n",
       "      <td id=\"T_06327_row5_col1\" class=\"data row5 col1\" >6,276</td>\n",
       "    </tr>\n",
       "    <tr>\n",
       "      <th id=\"T_06327_level0_row6\" class=\"row_heading level0 row6\" >RF 2</th>\n",
       "      <td id=\"T_06327_row6_col0\" class=\"data row6 col0\" >int64</td>\n",
       "      <td id=\"T_06327_row6_col1\" class=\"data row6 col1\" >6,276</td>\n",
       "    </tr>\n",
       "    <tr>\n",
       "      <th id=\"T_06327_level0_row7\" class=\"row_heading level0 row7\" >RF 3</th>\n",
       "      <td id=\"T_06327_row7_col0\" class=\"data row7 col0\" >int64</td>\n",
       "      <td id=\"T_06327_row7_col1\" class=\"data row7 col1\" >6,276</td>\n",
       "    </tr>\n",
       "    <tr>\n",
       "      <th id=\"T_06327_level0_row8\" class=\"row_heading level0 row8\" >RF 4</th>\n",
       "      <td id=\"T_06327_row8_col0\" class=\"data row8 col0\" >int64</td>\n",
       "      <td id=\"T_06327_row8_col1\" class=\"data row8 col1\" >6,276</td>\n",
       "    </tr>\n",
       "    <tr>\n",
       "      <th id=\"T_06327_level0_row9\" class=\"row_heading level0 row9\" >RF 5</th>\n",
       "      <td id=\"T_06327_row9_col0\" class=\"data row9 col0\" >int64</td>\n",
       "      <td id=\"T_06327_row9_col1\" class=\"data row9 col1\" >6,276</td>\n",
       "    </tr>\n",
       "    <tr>\n",
       "      <th id=\"T_06327_level0_row10\" class=\"row_heading level0 row10\" >SF 1</th>\n",
       "      <td id=\"T_06327_row10_col0\" class=\"data row10 col0\" >float64</td>\n",
       "      <td id=\"T_06327_row10_col1\" class=\"data row10 col1\" >4,680</td>\n",
       "    </tr>\n",
       "    <tr>\n",
       "      <th id=\"T_06327_level0_row11\" class=\"row_heading level0 row11\" >SF 2</th>\n",
       "      <td id=\"T_06327_row11_col0\" class=\"data row11 col0\" >float64</td>\n",
       "      <td id=\"T_06327_row11_col1\" class=\"data row11 col1\" >4,680</td>\n",
       "    </tr>\n",
       "    <tr>\n",
       "      <th id=\"T_06327_level0_row12\" class=\"row_heading level0 row12\" >SF 3</th>\n",
       "      <td id=\"T_06327_row12_col0\" class=\"data row12 col0\" >float64</td>\n",
       "      <td id=\"T_06327_row12_col1\" class=\"data row12 col1\" >4,680</td>\n",
       "    </tr>\n",
       "    <tr>\n",
       "      <th id=\"T_06327_level0_row13\" class=\"row_heading level0 row13\" >FF</th>\n",
       "      <td id=\"T_06327_row13_col0\" class=\"data row13 col0\" >float64</td>\n",
       "      <td id=\"T_06327_row13_col1\" class=\"data row13 col1\" >6,276</td>\n",
       "    </tr>\n",
       "    <tr>\n",
       "      <th id=\"T_06327_level0_row14\" class=\"row_heading level0 row14\" >RGM</th>\n",
       "      <td id=\"T_06327_row14_col0\" class=\"data row14 col0\" >float64</td>\n",
       "      <td id=\"T_06327_row14_col1\" class=\"data row14 col1\" >6,276</td>\n",
       "    </tr>\n",
       "    <tr>\n",
       "      <th id=\"T_06327_level0_row15\" class=\"row_heading level0 row15\" >LGM</th>\n",
       "      <td id=\"T_06327_row15_col0\" class=\"data row15 col0\" >float64</td>\n",
       "      <td id=\"T_06327_row15_col1\" class=\"data row15 col1\" >6,276</td>\n",
       "    </tr>\n",
       "    <tr>\n",
       "      <th id=\"T_06327_level0_row16\" class=\"row_heading level0 row16\" >VC</th>\n",
       "      <td id=\"T_06327_row16_col0\" class=\"data row16 col0\" >float64</td>\n",
       "      <td id=\"T_06327_row16_col1\" class=\"data row16 col1\" >6,276</td>\n",
       "    </tr>\n",
       "    <tr>\n",
       "      <th id=\"T_06327_level0_row17\" class=\"row_heading level0 row17\" >TA</th>\n",
       "      <td id=\"T_06327_row17_col0\" class=\"data row17 col0\" >int64</td>\n",
       "      <td id=\"T_06327_row17_col1\" class=\"data row17 col1\" >6,276</td>\n",
       "    </tr>\n",
       "    <tr>\n",
       "      <th id=\"T_06327_level0_row18\" class=\"row_heading level0 row18\" >PB</th>\n",
       "      <td id=\"T_06327_row18_col0\" class=\"data row18 col0\" >float64</td>\n",
       "      <td id=\"T_06327_row18_col1\" class=\"data row18 col1\" >6,276</td>\n",
       "    </tr>\n",
       "    <tr>\n",
       "      <th id=\"T_06327_level0_row19\" class=\"row_heading level0 row19\" >SBP</th>\n",
       "      <td id=\"T_06327_row19_col0\" class=\"data row19 col0\" >int64</td>\n",
       "      <td id=\"T_06327_row19_col1\" class=\"data row19 col1\" >6,276</td>\n",
       "    </tr>\n",
       "    <tr>\n",
       "      <th id=\"T_06327_level0_row20\" class=\"row_heading level0 row20\" >DBP</th>\n",
       "      <td id=\"T_06327_row20_col0\" class=\"data row20 col0\" >int64</td>\n",
       "      <td id=\"T_06327_row20_col1\" class=\"data row20 col1\" >6,276</td>\n",
       "    </tr>\n",
       "    <tr>\n",
       "      <th id=\"T_06327_level0_row21\" class=\"row_heading level0 row21\" >HR rest</th>\n",
       "      <td id=\"T_06327_row21_col0\" class=\"data row21 col0\" >int64</td>\n",
       "      <td id=\"T_06327_row21_col1\" class=\"data row21 col1\" >6,276</td>\n",
       "    </tr>\n",
       "    <tr>\n",
       "      <th id=\"T_06327_level0_row22\" class=\"row_heading level0 row22\" >Stages</th>\n",
       "      <td id=\"T_06327_row22_col0\" class=\"data row22 col0\" >int64</td>\n",
       "      <td id=\"T_06327_row22_col1\" class=\"data row22 col1\" >6,276</td>\n",
       "    </tr>\n",
       "    <tr>\n",
       "      <th id=\"T_06327_level0_row23\" class=\"row_heading level0 row23\" >PL 1</th>\n",
       "      <td id=\"T_06327_row23_col0\" class=\"data row23 col0\" >int64</td>\n",
       "      <td id=\"T_06327_row23_col1\" class=\"data row23 col1\" >6,276</td>\n",
       "    </tr>\n",
       "    <tr>\n",
       "      <th id=\"T_06327_level0_row24\" class=\"row_heading level0 row24\" >HR 1</th>\n",
       "      <td id=\"T_06327_row24_col0\" class=\"data row24 col0\" >int64</td>\n",
       "      <td id=\"T_06327_row24_col1\" class=\"data row24 col1\" >6,276</td>\n",
       "    </tr>\n",
       "    <tr>\n",
       "      <th id=\"T_06327_level0_row25\" class=\"row_heading level0 row25\" >RPE 1</th>\n",
       "      <td id=\"T_06327_row25_col0\" class=\"data row25 col0\" >int64</td>\n",
       "      <td id=\"T_06327_row25_col1\" class=\"data row25 col1\" >6,276</td>\n",
       "    </tr>\n",
       "    <tr>\n",
       "      <th id=\"T_06327_level0_row26\" class=\"row_heading level0 row26\" >PL 2</th>\n",
       "      <td id=\"T_06327_row26_col0\" class=\"data row26 col0\" >int64</td>\n",
       "      <td id=\"T_06327_row26_col1\" class=\"data row26 col1\" >6,276</td>\n",
       "    </tr>\n",
       "    <tr>\n",
       "      <th id=\"T_06327_level0_row27\" class=\"row_heading level0 row27\" >HR 2</th>\n",
       "      <td id=\"T_06327_row27_col0\" class=\"data row27 col0\" >int64</td>\n",
       "      <td id=\"T_06327_row27_col1\" class=\"data row27 col1\" >6,276</td>\n",
       "    </tr>\n",
       "    <tr>\n",
       "      <th id=\"T_06327_level0_row28\" class=\"row_heading level0 row28\" >RPE 2</th>\n",
       "      <td id=\"T_06327_row28_col0\" class=\"data row28 col0\" >float64</td>\n",
       "      <td id=\"T_06327_row28_col1\" class=\"data row28 col1\" >6,276</td>\n",
       "    </tr>\n",
       "    <tr>\n",
       "      <th id=\"T_06327_level0_row29\" class=\"row_heading level0 row29\" >PL 3</th>\n",
       "      <td id=\"T_06327_row29_col0\" class=\"data row29 col0\" >float64</td>\n",
       "      <td id=\"T_06327_row29_col1\" class=\"data row29 col1\" >5,896</td>\n",
       "    </tr>\n",
       "    <tr>\n",
       "      <th id=\"T_06327_level0_row30\" class=\"row_heading level0 row30\" >HR 3</th>\n",
       "      <td id=\"T_06327_row30_col0\" class=\"data row30 col0\" >float64</td>\n",
       "      <td id=\"T_06327_row30_col1\" class=\"data row30 col1\" >5,896</td>\n",
       "    </tr>\n",
       "    <tr>\n",
       "      <th id=\"T_06327_level0_row31\" class=\"row_heading level0 row31\" >RPE 3</th>\n",
       "      <td id=\"T_06327_row31_col0\" class=\"data row31 col0\" >float64</td>\n",
       "      <td id=\"T_06327_row31_col1\" class=\"data row31 col1\" >5,883</td>\n",
       "    </tr>\n",
       "    <tr>\n",
       "      <th id=\"T_06327_level0_row32\" class=\"row_heading level0 row32\" >FFTotal</th>\n",
       "      <td id=\"T_06327_row32_col0\" class=\"data row32 col0\" >int64</td>\n",
       "      <td id=\"T_06327_row32_col1\" class=\"data row32 col1\" >6,276</td>\n",
       "    </tr>\n",
       "  </tbody>\n",
       "</table>\n"
      ],
      "text/plain": [
       "<pandas.io.formats.style.Styler at 0x1629b9f70>"
      ]
     },
     "execution_count": 84,
     "metadata": {},
     "output_type": "execute_result"
    }
   ],
   "source": [
    "# Calculate the missing percentage for each column\n",
    "missing_percentage = df.isnull().mean() * 100\n",
    "\n",
    "# Clean the data by removing columns with more than 30% missing values\n",
    "df_cleaned = df.loc[:, missing_percentage <= 30]\n",
    "df_cleaned.columns\n",
    "\n",
    "#Display the retained columns\n",
    "retained_cols = pd.DataFrame({\n",
    "   'Column Name': df_cleaned.columns.tolist(),\n",
    "   'Data Type': df_cleaned.dtypes.values,\n",
    "   'Non-null Count': df_cleaned.count().values\n",
    "}).set_index('Column Name')\n",
    "\n",
    "(\n",
    "retained_cols\n",
    "   .style\n",
    "   .set_table_styles([\n",
    "       {'selector': 'thead',\n",
    "        'props': [('background-color', '#2c3e50'), \n",
    "                 ('color', 'white'),\n",
    "                 ('font-weight', 'bold')]},\n",
    "   ])\n",
    "   .format({'Non-null Count': '{:,d}'})\n",
    ")"
   ]
  },
  {
   "cell_type": "markdown",
   "metadata": {},
   "source": [
    "visualize 5 variables with FFTotal\n",
    "using 'df_cleaned' we will visualize 5 variables along with FFTotal in order to see if there is a correlation between them to use for later calculations to predict FFTotal. Originally done in Google Colab but work copy andd pasted here."
   ]
  },
  {
   "cell_type": "markdown",
   "metadata": {},
   "source": [
    "1. compare variable 'Sex' vs 'FFTotal' to see the distributation of FFTotal across both genders. Used both a boxplot and histogram.\n",
    "\n",
    "Boxplot:\n",
    "\n",
    "Female subjects tend to have a lower FFTotal score than males.\n",
    "\n",
    "Males have outliers within their distribution extending past the lower fence.\n",
    "\n",
    "Histogram:\n",
    "\n",
    "Unimodal distribution indicates FFTotal for both sexes mainly range between 25-45.\n",
    "\n",
    "Symmetric distrubition indicates data has a normal distribution where most data points cluster around the middle and taper off towards both ends. \n",
    "\n",
    "**Analysis:**\n",
    "\n",
    "Since there is a clear distribution indicated in both the boxplot and histogram charts, we can conclude that Sex might be an important factor in calculating FFTotal.\n",
    "We need to take into account gender when calculating FFTotal scores since we can see that females on average generally have a lower score than males."
   ]
  },
  {
   "cell_type": "code",
   "execution_count": null,
   "metadata": {},
   "outputs": [],
   "source": [
    "import seaborn as sns\n",
    "import matplotlib.pyplot as plt\n",
    "\n",
    "sns.boxplot(data=df_cleaned, x='Sex', y='FFTotal')\n",
    "plt.title('Distribution of FFTotal by Sex')\n",
    "plt.show()"
   ]
  },
  {
   "cell_type": "code",
   "execution_count": null,
   "metadata": {},
   "outputs": [],
   "source": [
    "sns.histplot(data=df_cleaned, x='FFTotal', hue='Sex', kde=True)\n",
    "plt.title('Distribution of FFTotal by Sex')\n",
    "plt.show()"
   ]
  },
  {
   "cell_type": "markdown",
   "metadata": {},
   "source": [
    "2. compare variable 'Age' vs 'FFTotal' to see if there is a correlation between the two variables.\n",
    "\n",
    "Boxplot:\n",
    "\n",
    "Boxplot distribution between ages aren't very different, indicates that FFTotal can vary and is not dependent on Age. The sample age range is also very small (18-25) so that's another reason why we probably don't see much impact on FFTotal regarding age.\n",
    "\n",
    "Scatterplot:\n",
    "\n",
    "Age ranges from 18-25, very limited range so we don't know if Age would be a useful variable to use when calculating FFTotal since we don't have older test sujects to gauge the difference in young vs old age.\n",
    "\n",
    "There seems to be no apparent relationship between Age and FFTotal as there are points at every range of FFTotal between all ages.\n",
    "\n",
    "**Analysis:**\n",
    "\n",
    "We would reccomend against using this variable as part of calculating FFTotal since there seems to be no correlation between Age and FFTotal and the sample age range is also limited so we can't truly see the impact young vs old age would have on the fitness score"
   ]
  },
  {
   "cell_type": "code",
   "execution_count": null,
   "metadata": {},
   "outputs": [],
   "source": [
    "sns.boxplot(data=df_cleaned, x='Age', y='FFTotal')\n",
    "plt.title('boxplot: Age vs. FFTotal')\n",
    "plt.show()"
   ]
  },
  {
   "cell_type": "code",
   "execution_count": null,
   "metadata": {},
   "outputs": [],
   "source": [
    "sns.scatterplot(data=df_cleaned, x='Age', y='FFTotal')\n",
    "plt.title('scatterplot: Age vs. FFTotal')\n",
    "plt.show()"
   ]
  },
  {
   "cell_type": "markdown",
   "metadata": {},
   "source": [
    "3. compare variable 'HR rest' vs 'FFTotal' to see if a lower resting heart rate would indicate a higher total fitness score. "
   ]
  },
  {
   "cell_type": "code",
   "execution_count": null,
   "metadata": {},
   "outputs": [],
   "source": [
    "sns.scatterplot(data=df_cleaned, x='HR rest', y='FFTotal')\n",
    "plt.show()"
   ]
  },
  {
   "cell_type": "markdown",
   "metadata": {},
   "source": [
    "4. compare variable 'Weight' vs 'FFTotal' to see if there is a correlation between the two.\n",
    "\n",
    "Scatterplot:\n",
    "\n",
    "There are a lot of varying datapoints for weights less than 200lbs, showing that fitness scores can still vary if weight isn't too high.\n",
    "\n",
    "At weights over 250, we can see that there are little to no datapoints with FFTotal scores of more than 40.\n",
    "\n",
    "**Analysis:** \n",
    "\n",
    "The scatterplot shows a slight negative correlation between Weight and FFTotal meaning that as weight increases, we can generally expect the FFTotal to decrease. Since data points are still fairly scattered between varying weights, we can assume there is little correlation between the two variables and should keep in mind only use it to some extent in our equation to calculate FFTotal. We can increase the importance of Weight in calculating the FFTotal as it increasing and goes above a certain threshold as we can see that higher weights can generally indicate lower FFTotal scores."
   ]
  },
  {
   "cell_type": "code",
   "execution_count": null,
   "metadata": {},
   "outputs": [],
   "source": [
    "sns.scatterplot(data=df_cleaned, x='Wt', y='FFTotal')\n",
    "plt.title('Weight vs. FFTotal')\n",
    "plt.show()"
   ]
  },
  {
   "cell_type": "markdown",
   "metadata": {},
   "source": [
    "5. compare variable 'Stages' vs 'FFTotal' where stages represents the number of stages completed on cycle ergometer test (range 2-4). A boxplot will be used to illustrate the distribution of FFTotal scores depending on the number stages a subject can complete.\n",
    "\n",
    "Boxplot:\n",
    "\n",
    "FFTotal scores increase as the stages increase. Subjects who are able to complete a higher number of stages will have an increased likelihood of having a higher FFTotal.\n",
    "\n",
    "**Analysis:**\n",
    "\n",
    "We can see that there is a clear correlation between 'Stages' and 'FFTotal' as the boxplot indicates a clear increase in fitness scores as the stages increase. With this knowledge, we can safely assume that 'Stages' will be an important variable in calculating FFTotal and can make sure to include it as part of our equation."
   ]
  },
  {
   "cell_type": "code",
   "execution_count": null,
   "metadata": {},
   "outputs": [],
   "source": [
    "sns.boxplot(data=df_cleaned, x='Stages', y='FFTotal')\n",
    "plt.show()"
   ]
  }
 ],
 "metadata": {
  "kernelspec": {
   "display_name": "Python 3",
   "language": "python",
   "name": "python3"
  },
  "language_info": {
   "codemirror_mode": {
    "name": "ipython",
    "version": 3
   },
   "file_extension": ".py",
   "mimetype": "text/x-python",
   "name": "python",
   "nbconvert_exporter": "python",
   "pygments_lexer": "ipython3",
   "version": "3.10.12"
  }
 },
 "nbformat": 4,
 "nbformat_minor": 2
}
